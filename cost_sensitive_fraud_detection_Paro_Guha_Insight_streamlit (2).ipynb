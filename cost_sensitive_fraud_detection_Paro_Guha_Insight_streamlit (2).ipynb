{
 "cells": [
  {
   "cell_type": "code",
   "execution_count": 2,
   "metadata": {},
   "outputs": [
    {
     "name": "stdout",
     "output_type": "stream",
     "text": [
      "Processed 786363 lines.\n"
     ]
    }
   ],
   "source": [
    "# Getting data from transactions.txt\n",
    "\n",
    "with open('transaction.txt') as csv_file:\n",
    "    csv_reader = csv.reader(csv_file, delimiter='|')\n",
    "    line_count = 0\n",
    "    for row in csv_reader:\n",
    "        transactions.append(json.loads(row[0])) \n",
    "        line_count += 1\n",
    "    print(\"Processed {line_count} lines.\".format(line_count=line_count))\n",
    "    \n",
    "#creating a pandas data frame\n",
    "import pandas as pd\n",
    "df = pd.DataFrame(transactions) "
   ]
  },
  {
   "cell_type": "code",
   "execution_count": 3,
   "metadata": {},
   "outputs": [],
   "source": [
    "# Feature engineering and data preprocessing\n",
    "\n",
    "# Complete the call to convert the date column\n",
    "df['transactionDateTime'] =  pd.to_datetime(df['transactionDateTime'])\n",
    "\n",
    "df['currentExpDate'] =  pd.to_datetime(df['currentExpDate'])\n",
    "\n",
    "df['accountOpenDate'] =  pd.to_datetime(df['accountOpenDate'])\n",
    "\n",
    "df['dateOfLastAddressChange'] =  pd.to_datetime(df['dateOfLastAddressChange'])\n",
    "\n",
    "\n",
    "# Encode categorical variables\n",
    "\n",
    "from sklearn.preprocessing import LabelEncoder\n",
    "ToEncodeVars = ['accountNumber', 'customerId','merchantName',\n",
    "       'acqCountry', 'merchantCountryCode', 'posEntryMode', 'posConditionCode',\n",
    "       'merchantCategoryCode','transactionType', 'echoBuffer', 'merchantCity',\n",
    "       'merchantState', 'merchantZip', 'cardPresent', 'posOnPremises',\n",
    "       'recurringAuthInd', 'expirationDateKeyInMatch','cardCVV', 'enteredCVV', 'cardLast4Digits', 'isFraud']\n",
    "enc=LabelEncoder()\n",
    "\n",
    "\n",
    "# Transform categorical qualitative data into labels\n",
    "for i in ToEncodeVars:\n",
    "    df[[i]] = enc.fit_transform(df[[i]])\n",
    "\n",
    "enc_data=df.iloc[:,:]\n",
    "\n",
    "# Dropping less important variables \n",
    "data = enc_data.drop(columns=['currentExpDate', 'accountOpenDate', 'dateOfLastAddressChange', 'accountNumber', 'customerId', 'acqCountry', 'merchantCountryCode', \n",
    "                              'posEntryMode', 'posConditionCode', 'echoBuffer', 'currentBalance', 'merchantCity','merchantState', 'merchantZip', 'posOnPremises',\n",
    "                              'recurringAuthInd', 'expirationDateKeyInMatch', 'availableMoney', 'enteredCVV'])\n",
    "\n",
    "\n",
    "# Feature engineering: Converting datetime to a new field seconds\n",
    "\n",
    "startTime = data.transactionDateTime.loc[0]\n",
    "endTime = data.transactionDateTime.loc[1]\n",
    "position = data.columns.get_loc('transactionDateTime')\n",
    "data['elapsed'] =  data.iloc[1:, position] - data.iat[0, position]\n",
    "seconds=data.elapsed.dt.total_seconds() \n",
    "data['seconds'] = seconds\n",
    "data = data.drop(columns=['transactionDateTime', 'elapsed'])\n",
    "dataset = data.drop(columns=['isFraud']).fillna(0)\n",
    "target = data['isFraud'].fillna(0)"
   ]
  },
  {
   "cell_type": "code",
   "execution_count": 4,
   "metadata": {},
   "outputs": [],
   "source": [
    "# Preparing the dataset and target variables\n",
    "\n",
    "dataset = data.drop(columns=['isFraud']).fillna(0)\n",
    "target = data['isFraud'].fillna(0)\n",
    "\n",
    "\n",
    "# Splitting the Dataset and target into Break set and Testing set and stratifying for the minority class\n",
    "#X_train, X_test, Y_train, Y_test = train_test_split(dataset, target, \\\n",
    "                                                   # test_size=0.2, stratify=df['isFraud'],\n",
    "                                                  # random_state=42)\n",
    "\n",
    "X_break, X_test, y_break, y_test = train_test_split(dataset, target, \\\n",
    "                                                    test_size=0.2, stratify=df['isFraud'],\n",
    "                                                    random_state=42)\n",
    "\n",
    "# Splitting the Break set into training andvalidation set\n",
    "X_train, X_val, y_train, y_val = train_test_split(X_break, y_break, \\\n",
    "                                                    test_size=0.25, stratify=y_break,\n",
    "                                                    random_state=42)\n",
    "\n",
    "# Standardize for the long tail of Dataset\n",
    "std_scale = StandardScaler().fit(X_train)\n",
    "\n",
    "# Scale data\n",
    "X_train_std = std_scale.transform(X_train)\n",
    "X_val_std = std_scale.transform(X_val)\n",
    "X_test_std = std_scale.transform(X_test)\n",
    "\n",
    "# Use Random undersampler from the majority class to correct for Imbalanced class model\n",
    "X_train_under, y_train_under = RandomUnderSampler(random_state=42).fit_sample(X_train_std,y_train)\n",
    "X_val_under, y_val_under = RandomUnderSampler(random_state=42).fit_sample(X_val_std,y_val)"
   ]
  },
  {
   "cell_type": "code",
   "execution_count": 5,
   "metadata": {},
   "outputs": [
    {
     "name": "stdout",
     "output_type": "stream",
     "text": [
      "Fitting 5 folds for each of 10 candidates, totalling 50 fits\n"
     ]
    },
    {
     "name": "stderr",
     "output_type": "stream",
     "text": [
      "[Parallel(n_jobs=-1)]: Using backend LokyBackend with 8 concurrent workers.\n",
      "[Parallel(n_jobs=-1)]: Done   2 tasks      | elapsed:    1.5s\n",
      "[Parallel(n_jobs=-1)]: Done   9 tasks      | elapsed:    1.6s\n",
      "[Parallel(n_jobs=-1)]: Done  16 tasks      | elapsed:    1.7s\n",
      "[Parallel(n_jobs=-1)]: Done  25 tasks      | elapsed:    1.7s\n",
      "[Parallel(n_jobs=-1)]: Batch computation too fast (0.1875s.) Setting batch_size=2.\n",
      "[Parallel(n_jobs=-1)]: Done  34 tasks      | elapsed:    1.8s\n",
      "[Parallel(n_jobs=-1)]: Done  41 out of  50 | elapsed:    1.8s remaining:    0.4s\n",
      "[Parallel(n_jobs=-1)]: Done  47 out of  50 | elapsed:    1.8s remaining:    0.1s\n",
      "[Parallel(n_jobs=-1)]: Done  50 out of  50 | elapsed:    2.1s finished\n"
     ]
    },
    {
     "data": {
      "text/plain": [
       "GridSearchCV(cv=5, error_score='raise-deprecating',\n",
       "             estimator=LogisticRegression(C=1.0, class_weight=None, dual=False,\n",
       "                                          fit_intercept=True,\n",
       "                                          intercept_scaling=1, l1_ratio=None,\n",
       "                                          max_iter=10000, multi_class='warn',\n",
       "                                          n_jobs=None, penalty='l2',\n",
       "                                          random_state=None, solver='lbfgs',\n",
       "                                          tol=0.0001, verbose=0,\n",
       "                                          warm_start=False),\n",
       "             iid='warn', n_jobs=-1,\n",
       "             param_grid={'C': array([1.00000000e+00, 2.15443469e+01, 4.64158883e+02, 1.00000000e+04,\n",
       "       2.15443469e+05, 4.64158883e+06, 1.00000000e+08, 2.15443469e+09,\n",
       "       4.64158883e+10, 1.00000000e+12]),\n",
       "                         'penalty': ['l2']},\n",
       "             pre_dispatch='2*n_jobs', refit=True, return_train_score=False,\n",
       "             scoring='roc_auc', verbose=10)"
      ]
     },
     "execution_count": 5,
     "metadata": {},
     "output_type": "execute_result"
    }
   ],
   "source": [
    "# Cross-Validation with logit\n",
    "\n",
    "penalty = ['l2']\n",
    "C = np.logspace(0, 4, 10, 100, 1000)\n",
    "param_grid = dict(C=C, penalty=penalty)\n",
    "\n",
    "logistic = linear_model.LogisticRegression(solver='lbfgs', max_iter=10000)\n",
    "logistic_grid = GridSearchCV(logistic, param_grid, cv=5, scoring='roc_auc', verbose=10, n_jobs=-1)\n",
    "logistic_grid.fit(X_train_under, y_train_under)"
   ]
  },
  {
   "cell_type": "code",
   "execution_count": 6,
   "metadata": {},
   "outputs": [
    {
     "name": "stdout",
     "output_type": "stream",
     "text": [
      "0.6816651102033526\n"
     ]
    }
   ],
   "source": [
    "# save the model to disk\n",
    "filename = 'logistic_grid.sav'\n",
    "pickle.dump(logistic_grid, open(filename, 'wb'))\n",
    " \n",
    "# load the model from disk\n",
    "loaded_logistic_grid_model= pickle.load(open(filename, 'rb'))\n",
    "result = loaded_logistic_grid_model.score(X_test_std, y_test)\n",
    "print(result)"
   ]
  },
  {
   "cell_type": "code",
   "execution_count": 7,
   "metadata": {},
   "outputs": [
    {
     "name": "stdout",
     "output_type": "stream",
     "text": [
      "Fitting 5 folds for each of 2 candidates, totalling 10 fits\n"
     ]
    },
    {
     "name": "stderr",
     "output_type": "stream",
     "text": [
      "[Parallel(n_jobs=-1)]: Using backend LokyBackend with 8 concurrent workers.\n",
      "[Parallel(n_jobs=-1)]: Done   3 out of  10 | elapsed:  1.6min remaining:  3.6min\n",
      "[Parallel(n_jobs=-1)]: Done   5 out of  10 | elapsed:  1.6min remaining:  1.6min\n",
      "[Parallel(n_jobs=-1)]: Done   7 out of  10 | elapsed:  1.6min remaining:   41.5s\n",
      "[Parallel(n_jobs=-1)]: Done  10 out of  10 | elapsed:  2.0min finished\n"
     ]
    },
    {
     "data": {
      "text/plain": [
       "GridSearchCV(cv=5, error_score='raise-deprecating',\n",
       "             estimator=SVC(C=1.0, cache_size=200, class_weight=None, coef0=0.0,\n",
       "                           decision_function_shape='ovr', degree=3,\n",
       "                           gamma='auto_deprecated', kernel='rbf', max_iter=-1,\n",
       "                           probability=True, random_state=None, shrinking=True,\n",
       "                           tol=0.001, verbose=False),\n",
       "             iid='warn', n_jobs=-1,\n",
       "             param_grid={'C': [1], 'gamma': [0.001, 0.1]},\n",
       "             pre_dispatch='2*n_jobs', refit=True, return_train_score=False,\n",
       "             scoring='roc_auc', verbose=10)"
      ]
     },
     "execution_count": 7,
     "metadata": {},
     "output_type": "execute_result"
    }
   ],
   "source": [
    "# Cross Validation with 5 folds SVM\n",
    "\n",
    "C = [1]\n",
    "gammas = [0.001, 0.1] \n",
    "param_grid = dict(C=C, gamma=gammas)\n",
    "svm1 = svm.SVC(kernel='rbf', probability=True)\n",
    "svm_grid = GridSearchCV(svm1, param_grid, cv=5, scoring='roc_auc', verbose=10, n_jobs=-1)\n",
    "svm_grid.fit(X_train_under, y_train_under)"
   ]
  },
  {
   "cell_type": "code",
   "execution_count": 8,
   "metadata": {},
   "outputs": [
    {
     "name": "stdout",
     "output_type": "stream",
     "text": [
      "0.7186171814972733\n"
     ]
    }
   ],
   "source": [
    "# save the model to disk\n",
    "filename = 'svm_grid.sav'\n",
    "pickle.dump(svm_grid, open(filename, 'wb'))\n",
    " \n",
    "# load the model from disk\n",
    "loaded_svm_grid_model= pickle.load(open(filename, 'rb'))\n",
    "result = loaded_svm_grid_model.score(X_test_std, y_test)\n",
    "print(result)"
   ]
  },
  {
   "cell_type": "code",
   "execution_count": 9,
   "metadata": {},
   "outputs": [
    {
     "name": "stdout",
     "output_type": "stream",
     "text": [
      "Fitting 5 folds for each of 24 candidates, totalling 120 fits\n"
     ]
    },
    {
     "name": "stderr",
     "output_type": "stream",
     "text": [
      "[Parallel(n_jobs=-1)]: Using backend LokyBackend with 8 concurrent workers.\n",
      "[Parallel(n_jobs=-1)]: Done   2 tasks      | elapsed:   47.8s\n",
      "[Parallel(n_jobs=-1)]: Done   9 tasks      | elapsed:  1.4min\n",
      "[Parallel(n_jobs=-1)]: Done  16 tasks      | elapsed:  1.7min\n",
      "[Parallel(n_jobs=-1)]: Done  25 tasks      | elapsed:  2.2min\n",
      "[Parallel(n_jobs=-1)]: Done  34 tasks      | elapsed:  2.6min\n",
      "[Parallel(n_jobs=-1)]: Done  45 tasks      | elapsed:  3.2min\n",
      "[Parallel(n_jobs=-1)]: Done  56 tasks      | elapsed:  4.2min\n",
      "[Parallel(n_jobs=-1)]: Done  69 tasks      | elapsed:  5.4min\n",
      "[Parallel(n_jobs=-1)]: Done  82 tasks      | elapsed:  6.4min\n",
      "[Parallel(n_jobs=-1)]: Done  97 tasks      | elapsed:  7.9min\n",
      "[Parallel(n_jobs=-1)]: Done 118 out of 120 | elapsed:  9.6min remaining:    9.8s\n",
      "[Parallel(n_jobs=-1)]: Done 120 out of 120 | elapsed:  9.7min finished\n"
     ]
    },
    {
     "data": {
      "text/plain": [
       "GridSearchCV(cv=5, error_score='raise-deprecating',\n",
       "             estimator=RandomForestClassifier(bootstrap=True, class_weight=None,\n",
       "                                              criterion='gini', max_depth=None,\n",
       "                                              max_features='auto',\n",
       "                                              max_leaf_nodes=None,\n",
       "                                              min_impurity_decrease=0.0,\n",
       "                                              min_impurity_split=None,\n",
       "                                              min_samples_leaf=1,\n",
       "                                              min_samples_split=2,\n",
       "                                              min_weight_fraction_leaf=0.0,\n",
       "                                              n_estimators='warn', n_jobs=None,\n",
       "                                              oob_score=False,\n",
       "                                              random_state=None, verbose=0,\n",
       "                                              warm_start=False),\n",
       "             iid='warn', n_jobs=-1,\n",
       "             param_grid={'max_depth': [5, 10, 15], 'max_features': ['sqrt'],\n",
       "                         'min_samples_leaf': [10, 20],\n",
       "                         'min_samples_split': [2, 5],\n",
       "                         'n_estimators': [500, 700]},\n",
       "             pre_dispatch='2*n_jobs', refit=True, return_train_score=False,\n",
       "             scoring='roc_auc', verbose=10)"
      ]
     },
     "execution_count": 9,
     "metadata": {},
     "output_type": "execute_result"
    }
   ],
   "source": [
    "# Cross Validation with Random Forest\n",
    "\n",
    "# Create the parameter grid based on the results of random search \n",
    "param_grid = {\n",
    "    'max_depth': [5, 10, 15],\n",
    "    'max_features': ['sqrt'],\n",
    "    'min_samples_leaf': [10, 20],\n",
    "    'min_samples_split': [2, 5],\n",
    "    'n_estimators': [500, 700]\n",
    "}\n",
    "\n",
    "rf = RandomForestClassifier()\n",
    "rf_grid = GridSearchCV(rf, param_grid, cv=5, scoring='roc_auc', verbose=10, n_jobs=-1)\n",
    "rf_grid.fit(X_train_under,y_train_under)"
   ]
  },
  {
   "cell_type": "code",
   "execution_count": 10,
   "metadata": {},
   "outputs": [
    {
     "name": "stdout",
     "output_type": "stream",
     "text": [
      "0.7913802928978362\n"
     ]
    }
   ],
   "source": [
    "# save the model to disk\n",
    "filename = 'rf_grid.sav'\n",
    "pickle.dump(rf_grid, open(filename, 'wb'))\n",
    " \n",
    "# load the model from disk\n",
    "loaded_rf_grid_model= pickle.load(open(filename, 'rb'))\n",
    "result = loaded_rf_grid_model.score(X_test_std, y_test)\n",
    "print(result)"
   ]
  },
  {
   "cell_type": "code",
   "execution_count": 11,
   "metadata": {},
   "outputs": [
    {
     "name": "stdout",
     "output_type": "stream",
     "text": [
      "0.5219777075531082\n"
     ]
    }
   ],
   "source": [
    "# Naive Bayes Classifier Model\n",
    "\n",
    "gnb = GaussianNB()\n",
    "gnb_best = gnb.fit(X_train_under, y_train_under)\n",
    "\n",
    "\n",
    "# save the model to disk\n",
    "filename = 'gnb_best.sav'\n",
    "pickle.dump(gnb_best, open(filename, 'wb'))\n",
    " \n",
    "# some time later...\n",
    " \n",
    "# load the model from disk\n",
    "loaded_gnb_model= pickle.load(open(filename, 'rb'))\n",
    "result = loaded_gnb_model.score(X_test_std, y_test)\n",
    "print(result)\n",
    "\n"
   ]
  },
  {
   "cell_type": "code",
   "execution_count": 12,
   "metadata": {},
   "outputs": [
    {
     "name": "stdout",
     "output_type": "stream",
     "text": [
      "0.5006262994919662\n"
     ]
    }
   ],
   "source": [
    "# Baseline Dummy Classifier\n",
    "dummy = DummyClassifier()\n",
    "dummy.fit(X_train_under, y_train_under)\n",
    "\n",
    "# save the model to disk\n",
    "filename = 'dummy.sav'\n",
    "pickle.dump(dummy, open(filename, 'wb'))\n",
    " \n",
    "# load the model from disk\n",
    "loaded_dummy_model= pickle.load(open(filename, 'rb'))\n",
    "result = loaded_dummy_model.score(X_test_std, y_test)\n",
    "print(result)\n",
    "\n"
   ]
  },
  {
   "cell_type": "code",
   "execution_count": 13,
   "metadata": {},
   "outputs": [
    {
     "data": {
      "image/png": "[encoded data removed]",
      "text/plain": [
       "<Figure size 576x576 with 1 Axes>"
      ]
     },
     "metadata": {
      "needs_background": "light"
     },
     "output_type": "display_data"
    }
   ],
   "source": [
    "# Evaluating performance: Calculating ROC-AUC Scores\n",
    "def roc_scores(X_value, Y_value):\n",
    "    #in sample\n",
    "    model_list = [dummy,\n",
    "                  gnb_best,\n",
    "                  logistic_grid.best_estimator_, \n",
    "                  svm_grid.best_estimator_, \n",
    "                  rf_grid.best_estimator_\n",
    "                  ]\n",
    "\n",
    "    model_name = ['Dummy', 'Naive Bayes','Logit','SVM','Random Forest',]\n",
    "\n",
    "    # Plot ROC curve for all my models\n",
    "    fig, ax = plt.subplots(figsize=(8,8))\n",
    "    for i, model in enumerate(model_list):\n",
    "        y_pred = list(model.predict_proba(X_value)[:,1])\n",
    "        fpr, tpr, threshold = metrics.roc_curve(Y_value, y_pred)\n",
    "        roc_auc = metrics.auc(fpr, tpr)\n",
    "        plt.plot(fpr, tpr, label = (model_name[i] + ' AUC = %0.4f' % roc_auc),linewidth=2.0)\n",
    "    ax.grid(False)\n",
    "    ax.tick_params(length=6, width=2,labelsize = 30,\n",
    "                   grid_color='r', grid_alpha=0.5)\n",
    "    leg = plt.legend(loc = 'lower right',prop={'size': 15})\n",
    "    leg.get_frame().set_edgecolor('b')\n",
    "    plt.title('Receiver Operating Characteristic (ROC)', FontSize=20)\n",
    "    plt.plot([0, 1], [0, 1], 'r--')\n",
    "    plt.xlim([-.02, 1.02])\n",
    "    plt.ylim([-.02, 1.02])\n",
    "    plt.ylabel('True Positive Rate',FontSize=18)\n",
    "    plt.xlabel('False Positive Rate',FontSize=18)\n",
    "    plt.show()\n",
    "    \n",
    "roc_scores(X_val_under,y_val_under)"
   ]
  },
  {
   "cell_type": "code",
   "execution_count": 14,
   "metadata": {},
   "outputs": [],
   "source": [
    "def find_best_threshold(model, int_num_steps):\n",
    "    highest_f1 = 0\n",
    "    best_threshold = 0\n",
    "    for threshold in np.linspace (0, 1, int_num_steps):\n",
    "        y_predict = (model.predict_proba(X_val_under)[:, 1] >= threshold) \n",
    "        f1 = f1_score(y_val_under,y_predict)\n",
    "        acc = accuracy_score(y_val_under,y_predict)\n",
    "        rec = recall_score(y_val_under,y_predict)\n",
    "        pre = precision_score(y_val_under,y_predict)\n",
    "        if f1 > highest_f1:\n",
    "            best_threshold, highest_f1, best_acc, best_rec, best_pre  = \\\n",
    "                threshold, f1, acc, rec, pre\n",
    "    return best_threshold, highest_f1, best_acc, best_rec, best_pre"
   ]
  },
  {
   "cell_type": "code",
   "execution_count": 15,
   "metadata": {},
   "outputs": [
    {
     "data": {
      "text/html": [
       "<div>\n",
       "<style scoped>\n",
       "    .dataframe tbody tr th:only-of-type {\n",
       "        vertical-align: middle;\n",
       "    }\n",
       "\n",
       "    .dataframe tbody tr th {\n",
       "        vertical-align: top;\n",
       "    }\n",
       "\n",
       "    .dataframe thead th {\n",
       "        text-align: right;\n",
       "    }\n",
       "</style>\n",
       "<table border=\"1\" class=\"dataframe\">\n",
       "  <thead>\n",
       "    <tr style=\"text-align: right;\">\n",
       "      <th></th>\n",
       "      <th>Model</th>\n",
       "      <th>Best Threshhold</th>\n",
       "      <th>F1 Score</th>\n",
       "      <th>Accuracy</th>\n",
       "      <th>Recall</th>\n",
       "      <th>Precision</th>\n",
       "    </tr>\n",
       "  </thead>\n",
       "  <tbody>\n",
       "    <tr>\n",
       "      <th>0</th>\n",
       "      <td>Dummy</td>\n",
       "      <td>0.000000</td>\n",
       "      <td>0.666667</td>\n",
       "      <td>0.500000</td>\n",
       "      <td>1.000000</td>\n",
       "      <td>0.500000</td>\n",
       "    </tr>\n",
       "    <tr>\n",
       "      <th>1</th>\n",
       "      <td>Logistic Regression</td>\n",
       "      <td>0.315789</td>\n",
       "      <td>0.678091</td>\n",
       "      <td>0.561393</td>\n",
       "      <td>0.923913</td>\n",
       "      <td>0.535589</td>\n",
       "    </tr>\n",
       "    <tr>\n",
       "      <th>2</th>\n",
       "      <td>Naive-Bayes</td>\n",
       "      <td>0.000000</td>\n",
       "      <td>0.666667</td>\n",
       "      <td>0.500000</td>\n",
       "      <td>1.000000</td>\n",
       "      <td>0.500000</td>\n",
       "    </tr>\n",
       "    <tr>\n",
       "      <th>3</th>\n",
       "      <td>SVM</td>\n",
       "      <td>0.315789</td>\n",
       "      <td>0.702807</td>\n",
       "      <td>0.629227</td>\n",
       "      <td>0.876812</td>\n",
       "      <td>0.586430</td>\n",
       "    </tr>\n",
       "    <tr>\n",
       "      <th>4</th>\n",
       "      <td>Random Forest</td>\n",
       "      <td>0.421053</td>\n",
       "      <td>0.738899</td>\n",
       "      <td>0.704106</td>\n",
       "      <td>0.837359</td>\n",
       "      <td>0.661157</td>\n",
       "    </tr>\n",
       "  </tbody>\n",
       "</table>\n",
       "</div>"
      ],
      "text/plain": [
       "                 Model  Best Threshhold  F1 Score  Accuracy    Recall  \\\n",
       "0                Dummy         0.000000  0.666667  0.500000  1.000000   \n",
       "1  Logistic Regression         0.315789  0.678091  0.561393  0.923913   \n",
       "2          Naive-Bayes         0.000000  0.666667  0.500000  1.000000   \n",
       "3                  SVM         0.315789  0.702807  0.629227  0.876812   \n",
       "4        Random Forest         0.421053  0.738899  0.704106  0.837359   \n",
       "\n",
       "   Precision  \n",
       "0   0.500000  \n",
       "1   0.535589  \n",
       "2   0.500000  \n",
       "3   0.586430  \n",
       "4   0.661157  "
      ]
     },
     "execution_count": 15,
     "metadata": {},
     "output_type": "execute_result"
    }
   ],
   "source": [
    "#Performance chart\n",
    "models = [dummy,logistic_grid, gnb_best, svm_grid, rf_grid]\n",
    "model_names = [\"Dummy\",  \"Logistic Regression\", \"Naive-Bayes\", \"SVM\", \"Random Forest\"]\n",
    "chart = list()\n",
    "for item,name in zip(models,model_names):\n",
    "    best_thresh, high_f1, high_acc, high_rec, high_pre = find_best_threshold(item,20)\n",
    "    chart.append([name, best_thresh, high_f1, high_acc, high_rec, high_pre])\n",
    "chart = pd.DataFrame(chart, columns=['Model', 'Best Threshhold','F1 Score','Accuracy','Recall','Precision'])    \n",
    "chart"
   ]
  },
  {
   "cell_type": "markdown",
   "metadata": {},
   "source": [
    "#Cost-sensitive learning: instead of each instance being either correctly or incorrectly classified, each class (or instance) is given a misclassification cost. Thus, instead of trying to optimize the accuracy, we minimize the total misclassification cost."
   ]
  },
  {
   "cell_type": "code",
   "execution_count": 16,
   "metadata": {},
   "outputs": [],
   "source": [
    "# Data preparation\n",
    "data_cost_saving = df.drop(columns = ['accountNumber', 'customerId', \n",
    "       'transactionDateTime', 'merchantName',\n",
    "       'acqCountry', 'merchantCountryCode', 'posEntryMode', 'posConditionCode',\n",
    "       'merchantCategoryCode', 'currentExpDate', 'accountOpenDate',\n",
    "       'dateOfLastAddressChange', 'transactionType', 'echoBuffer', 'merchantCity',\n",
    "       'merchantState', 'merchantZip', 'cardPresent', 'posOnPremises',\n",
    "       'recurringAuthInd', 'expirationDateKeyInMatch'])\n",
    "target = df['isFraud']\n",
    "X_break, X_test, y_break, y_test = train_test_split(data_cost_saving, target, \\\n",
    "                                                    test_size=0.2, stratify=df['isFraud'],\n",
    "                                                    random_state=42)\n",
    "\n",
    "#random_state generates a set kind of deck for each random state. 42 will always be the same kind of split\n",
    "X_train, X_val, y_train, y_val = train_test_split(X_break, y_break, \\\n",
    "                                                    test_size=0.25, stratify=y_break,\n",
    "                                                    random_state=42)\n",
    "# Initialize fit StandardScaler\n",
    "std_scale = StandardScaler().fit(X_train)\n",
    "\n",
    "# Scale data\n",
    "X_train_std = std_scale.transform(X_train)\n",
    "X_val_std = std_scale.transform(X_val)\n",
    "X_test_std = std_scale.transform(X_test)\n",
    "\n",
    "dataset = data_cost_saving.drop(columns=['isFraud','creditLimit']).fillna(0)\n",
    "target = data_cost_saving['isFraud'].fillna(0)"
   ]
  },
  {
   "cell_type": "code",
   "execution_count": 17,
   "metadata": {},
   "outputs": [],
   "source": [
    "# Defining data and classification costs\n",
    "import ANN, eval_results\n",
    "\n",
    "X = dataset\n",
    "y = target\n",
    "sc = StandardScaler()\n",
    "X = sc.fit_transform(X)\n",
    "\n",
    "amount = dataset['transactionAmount']\n",
    "cost_FP = 1\n",
    "cost_FN = amount\n",
    "cost_TP = 1\n",
    "cost_TN = 0\n",
    "cost_mat = np.array([cost_FP * np.ones(dataset.shape[0]), cost_FN, \n",
    "                     cost_TP * np.ones(dataset.shape[0]), \n",
    "                     cost_TN * np.ones(dataset.shape[0])]).T"
   ]
  },
  {
   "cell_type": "code",
   "execution_count": 18,
   "metadata": {},
   "outputs": [],
   "source": [
    "# Data into train / test splits (5-fold CV):\n",
    "n_splits = 5\n",
    "kf = KFold(n_splits=n_splits, random_state=123, shuffle=True)\n",
    "kf.get_n_splits(X)\n",
    "X_train_l, X_test_l = [], []\n",
    "y_train_l, y_test_l = [], []\n",
    "cost_mat_train_l, cost_mat_test_l = [], []\n",
    "for train_index, test_index in kf.split(X):\n",
    "    X_train_l.append(X[train_index, :])\n",
    "    X_test_l.append(X[test_index, :])\n",
    "    y_train_l.append(y.iloc[train_index])\n",
    "    y_test_l.append(y.iloc[test_index])\n",
    "    cost_mat_train_l.append(cost_mat[train_index, :])\n",
    "    cost_mat_test_l.append(cost_mat[test_index, :])"
   ]
  },
  {
   "cell_type": "code",
   "execution_count": 19,
   "metadata": {},
   "outputs": [
    {
     "name": "stdout",
     "output_type": "stream",
     "text": [
      "Random Model ...\n"
     ]
    }
   ],
   "source": [
    "# Random model 2 #\n",
    "y_pred_train_rand, y_pred_test_rand = [], []\n",
    "print('Random Model ...')\n",
    "for y_train, y_test in zip(y_train_l, y_test_l):\n",
    "    y_pos_train = y_train.sum() / y_train.shape[0]\n",
    "    y_pred_train_rand.append(np.random.binomial(1, y_pos_train, y_train.shape[0]))\n",
    "    y_pred_test_rand.append(np.random.binomial(1, y_pos_train, y_test.shape[0]))"
   ]
  },
  {
   "cell_type": "code",
   "execution_count": 20,
   "metadata": {},
   "outputs": [
    {
     "name": "stdout",
     "output_type": "stream",
     "text": [
      "Logistic regression 1/5 ...\n",
      "Logistic regression 2/5 ...\n",
      "Logistic regression 3/5 ...\n",
      "Logistic regression 4/5 ...\n",
      "Logistic regression 5/5 ...\n"
     ]
    }
   ],
   "source": [
    "# Logistic Regression #\n",
    "y_pred_train_lr_probas, y_pred_test_lr_probas = [], []\n",
    "y_pred_train_lr, y_pred_test_lr = [], []\n",
    "for i, (X_train, X_test, y_train) in enumerate(zip(X_train_l, X_test_l, y_train_l)):\n",
    "    print('Logistic regression ' + str(i + 1) + '/' + str(n_splits) + ' ...')\n",
    "    lr = LogisticRegression()\n",
    "    lr.fit(X_train, y_train)\n",
    "    y_pred_train_lr_probas.append(np.round(lr.predict_proba(X_train)[:, 1], 3))\n",
    "    y_pred_test_lr_probas.append(np.round(lr.predict_proba(X_test)[:, 1], 3))\n",
    "    y_pred_train_lr.append(lr.predict(X_train))\n",
    "    y_pred_test_lr.append(lr.predict(X_test))"
   ]
  },
  {
   "cell_type": "code",
   "execution_count": 21,
   "metadata": {},
   "outputs": [
    {
     "name": "stdout",
     "output_type": "stream",
     "text": [
      "ANN 1/5 ...\n",
      "Epoch 1/2\n",
      "629090/629090 [==============================] - 16s 25us/step - loss: 0.0836 - accuracy: 0.9842\n",
      "Epoch 2/2\n",
      "629090/629090 [==============================] - 16s 25us/step - loss: 0.0789 - accuracy: 0.9842\n",
      "629090/629090 [==============================] - 6s 10us/step\n",
      "157273/157273 [==============================] - 1s 8us/step\n",
      "ANN 2/5 ...\n",
      "Epoch 1/2\n",
      "629090/629090 [==============================] - 13s 21us/step - loss: 0.0841 - accuracy: 0.9842\n",
      "Epoch 2/2\n",
      "629090/629090 [==============================] - 14s 22us/step - loss: 0.0787 - accuracy: 0.9843\n",
      "629090/629090 [==============================] - 5s 7us/step\n",
      "157273/157273 [==============================] - 1s 8us/step\n",
      "ANN 3/5 ...\n",
      "Epoch 1/2\n",
      "629090/629090 [==============================] - 14s 22us/step - loss: 0.0836 - accuracy: 0.9841\n",
      "Epoch 2/2\n",
      "629090/629090 [==============================] - 14s 22us/step - loss: 0.0793 - accuracy: 0.9841\n",
      "629090/629090 [==============================] - 5s 9us/step\n",
      "157273/157273 [==============================] - 1s 8us/step\n",
      "ANN 4/5 ...\n",
      "Epoch 1/2\n",
      "629091/629091 [==============================] - 17s 27us/step - loss: 0.0833 - accuracy: 0.9843\n",
      "Epoch 2/2\n",
      "629091/629091 [==============================] - 32s 50us/step - loss: 0.0787 - accuracy: 0.98430s - loss: 0\n",
      "629091/629091 [==============================] - 98s 156us/step\n",
      "157272/157272 [==============================] - 6s 41us/step\n",
      "ANN 5/5 ...\n",
      "Epoch 1/2\n",
      "629091/629091 [==============================] - 29s 46us/step - loss: 0.0840 - accuracy: 0.9841\n",
      "Epoch 2/2\n",
      "629091/629091 [==============================] - 19s 30us/step - loss: 0.0793 - accuracy: 0.9842\n",
      "629091/629091 [==============================] - 7s 11us/step\n",
      "157272/157272 [==============================] - 2s 12us/step\n"
     ]
    }
   ],
   "source": [
    "# ANN #\n",
    "y_pred_train_ann_probas, y_pred_test_ann_probas = [], []\n",
    "y_pred_train_ann, y_pred_test_ann = [], []\n",
    "for i, (X_train, X_test, y_train) in enumerate(zip(X_train_l, X_test_l, y_train_l)):\n",
    "    print('ANN ' + str(i + 1) + '/' + str(n_splits) + ' ...')\n",
    "    clf = ANN.clf(indput_dim=X_train.shape[1], dropout=0.2)\n",
    "    clf.compile(optimizer='adam', loss='binary_crossentropy', metrics=['accuracy'])\n",
    "    clf.fit(X_train, y_train, batch_size=50, epochs=2, verbose=1)\n",
    "    y_pred_train_ann_proba = np.round(clf.predict(X_train, verbose=1), 3).reshape(-1)\n",
    "    y_pred_test_ann_proba = np.round(clf.predict(X_test, verbose=1), 3).reshape(-1)\n",
    "    y_pred_train_ann_probas.append(y_pred_train_ann_proba)\n",
    "    y_pred_test_ann_probas.append(y_pred_test_ann_proba)\n",
    "    y_pred_train_ann.append((y_pred_train_ann_proba > 0.5).astype(int).reshape(-1))\n",
    "    y_pred_test_ann.append((y_pred_test_ann_proba > 0.5).astype(int).reshape(-1))"
   ]
  },
  {
   "cell_type": "code",
   "execution_count": 25,
   "metadata": {},
   "outputs": [
    {
     "name": "stdout",
     "output_type": "stream",
     "text": [
      "ANN Cost Sensitive 1/5 ...\n",
      "Epoch 1/2\n",
      "629090/629090 [==============================] - 17s 27us/step - loss: 1.7376 - accuracy: 0.0332\n",
      "Epoch 2/2\n",
      "629090/629090 [==============================] - 13s 21us/step - loss: 1.6912 - accuracy: 0.0339\n",
      "629090/629090 [==============================] - 4s 7us/step\n",
      "157273/157273 [==============================] - 1s 7us/step\n",
      "ANN Cost Sensitive 2/5 ...\n",
      "Epoch 1/2\n",
      "629090/629090 [==============================] - 17s 27us/step - loss: 1.7234 - accuracy: 0.0334\n",
      "Epoch 2/2\n",
      "629090/629090 [==============================] - 16s 25us/step - loss: 1.6863 - accuracy: 0.0340\n",
      "629090/629090 [==============================] - 6s 9us/step\n",
      "157273/157273 [==============================] - 2s 10us/step\n",
      "ANN Cost Sensitive 3/5 ...\n",
      "Epoch 1/2\n",
      "629090/629090 [==============================] - 17s 27us/step - loss: 1.7415 - accuracy: 0.0335\n",
      "Epoch 2/2\n",
      "629090/629090 [==============================] - 34s 53us/step - loss: 1.6966 - accuracy: 0.0340\n",
      "629090/629090 [==============================] - 80s 127us/step\n",
      "157273/157273 [==============================] - 8s 53us/step\n",
      "ANN Cost Sensitive 4/5 ...\n",
      "Epoch 1/2\n",
      "629091/629091 [==============================] - 204s 325us/step - loss: 1.7287 - accuracy: 0.0334\n",
      "Epoch 2/2\n",
      "629091/629091 [==============================] - 18s 29us/step - loss: 1.6877 - accuracy: 0.0340\n",
      "629091/629091 [==============================] - 6s 9us/step\n",
      "157272/157272 [==============================] - 1s 9us/step\n",
      "ANN Cost Sensitive 5/5 ...\n",
      "Epoch 1/2\n",
      "629091/629091 [==============================] - 15s 24us/step - loss: 1.8029 - accuracy: 0.0332\n",
      "Epoch 2/2\n",
      "629091/629091 [==============================] - 16s 25us/step - loss: 1.6847 - accuracy: 0.0339\n",
      "629091/629091 [==============================] - 5s 8us/step\n",
      "157272/157272 [==============================] - 1s 8us/step\n"
     ]
    }
   ],
   "source": [
    "# Cost Sensitive #\n",
    "y_pred_train_ann_cs_probas, y_pred_test_ann_cs_probas = [], []\n",
    "y_pred_train_ann_cs, y_pred_test_ann_cs = [], []\n",
    "for i, (X_train, X_test, y_train, cost_mat_train) in enumerate(zip(X_train_l, \n",
    "                                   X_test_l, y_train_l, cost_mat_train_l)): \n",
    "    print('ANN Cost Sensitive ' + str(i + 1) + '/' + str(n_splits) + ' ...')\n",
    "    cost_FN_train = cost_mat_train[:, 1]\n",
    "    y_input = ANN.create_y_input(y_train, cost_FN_train).apply(float)\n",
    "    clf = ANN.clf(indput_dim=X_train.shape[1], dropout=0.2)\n",
    "    clf.compile(optimizer='adam', loss=ANN.custom_loss(cost_FP, cost_TP, cost_TN),\n",
    "                metrics=['accuracy'])\n",
    "    clf.fit(X_train, y_input, batch_size=50, epochs=2, verbose=1)\n",
    "    y_pred_train_ann_cs_proba = clf.predict(X_train, verbose=1)\n",
    "    y_pred_test_ann_cs_proba = clf.predict(X_test, verbose=1)\n",
    "    y_pred_train_ann_cs_probas.append(y_pred_train_ann_cs_proba)\n",
    "    y_pred_test_ann_cs_probas.append(y_pred_test_ann_cs_proba)\n",
    "    y_pred_train_ann_cs.append((y_pred_train_ann_cs_proba > 0.5).\\\n",
    "                               astype(int).reshape(-1))\n",
    "    y_pred_test_ann_cs.append((y_pred_test_ann_cs_proba > 0.5).\\\n",
    "                              astype(int).reshape(-1))"
   ]
  },
  {
   "cell_type": "code",
   "execution_count": 26,
   "metadata": {},
   "outputs": [],
   "source": [
    "# cost-classification Logistic Regression classified according to expected minimum costs (mc)\n",
    "y_pred_train_lr_mc, y_pred_test_lr_mc = [], []\n",
    "for y_train_proba, y_test_proba, cm_train, cm_test in zip(y_pred_train_lr_probas,\\\n",
    "                            y_pred_test_lr_probas, cost_mat_train_l, cost_mat_test_l):\n",
    "    cost_0 = (1 - y_train_proba) * cm_train[:, 3] + y_train_proba * cm_train[:, 1]\n",
    "    cost_1 = (1 - y_train_proba) * cm_train[:, 0] + y_train_proba * cm_train[:, 2]\n",
    "    y_pred_train_lr_mc.append((cost_1 < cost_0).astype(int))        \n",
    "    cost_0 = (1 - y_test_proba) * cm_test[:, 3] + y_test_proba * cm_test[:, 1]\n",
    "    cost_1 = (1 - y_test_proba) * cm_test[:, 0] + y_test_proba * cm_test[:, 2]\n",
    "    y_pred_test_lr_mc.append((cost_1 < cost_0).astype(int))"
   ]
  },
  {
   "cell_type": "code",
   "execution_count": 27,
   "metadata": {},
   "outputs": [],
   "source": [
    "# cost-classified ANN classified according to expected minimum costs (mc)\n",
    "y_pred_train_ann_mc, y_pred_test_ann_mc = [], []\n",
    "for y_train_proba, y_test_proba, cm_train, cm_test in zip(y_pred_train_ann_probas,\\\n",
    "                            y_pred_test_ann_probas, cost_mat_train_l, cost_mat_test_l):\n",
    "    cost_0 = (1 - y_train_proba) * cm_train[:, 3] + y_train_proba * cm_train[:, 1]\n",
    "    cost_1 = (1 - y_train_proba) * cm_train[:, 0] + y_train_proba * cm_train[:, 2]\n",
    "    y_pred_train_ann_mc.append((cost_1 < cost_0).astype(int))  \n",
    "    cost_0 = (1 - y_test_proba) * cm_test[:, 3] + y_test_proba * cm_test[:, 1]\n",
    "    cost_1 = (1 - y_test_proba) * cm_test[:, 0] + y_test_proba * cm_test[:, 2]\n",
    "    y_pred_test_ann_mc.append((cost_1 < cost_0).astype(int))"
   ]
  },
  {
   "cell_type": "code",
   "execution_count": 28,
   "metadata": {},
   "outputs": [],
   "source": [
    "# ---------- Save results ---------- #\n",
    "np.save('results/cost_mat_train_l', cost_mat_train_l)\n",
    "np.save('results/cost_mat_test_l', cost_mat_test_l)\n",
    "np.save('results/y_pred_train_lr.npy', y_pred_train_lr)\n",
    "np.save('results/y_pred_test_lr.npy', y_pred_test_lr)\n",
    "np.save('results/y_pred_train_lr_probas.npy', y_pred_train_lr_probas)\n",
    "np.save('results/y_pred_test_lr_probas.npy', y_pred_test_lr_probas)\n",
    "np.save('results/y_pred_train_ann.npy', y_pred_train_ann)\n",
    "np.save('results/y_pred_test_ann.npy', y_pred_test_ann)\n",
    "np.save('results/y_pred_train_ann_probas.npy', y_pred_train_ann_probas)\n",
    "np.save('results/y_pred_test_ann_probas.npy', y_pred_test_ann_probas)\n",
    "np.save('results/y_pred_train_ann_cs.npy', y_pred_train_ann_cs)\n",
    "np.save('results/y_pred_test_ann_cs.npy', y_pred_test_ann_cs)\n",
    "np.save('results/y_pred_train_ann_cs_probas.npy', y_pred_train_ann_cs_probas)\n",
    "np.save('results/y_pred_test_ann_cs_probas.npy', y_pred_test_ann_cs_probas)\n",
    "np.save('results/y_pred_train_lr_mc.npy', y_pred_train_lr_mc)\n",
    "np.save('results/y_pred_test_lr_mc.npy', y_pred_test_lr_mc)\n",
    "np.save('results/y_pred_train_ann_mc.npy', y_pred_train_ann_mc)\n",
    "np.save('results/y_pred_test_ann_mc.npy', y_pred_test_ann_mc)"
   ]
  },
  {
   "cell_type": "code",
   "execution_count": 29,
   "metadata": {},
   "outputs": [
    {
     "name": "stdout",
     "output_type": "stream",
     "text": [
      "--------------------\n",
      "Random\n",
      "Positives train     0.016, individual: [0.016, 0.016, 0.016, 0.015, 0.016]\n",
      "Positives test:     0.016, individual: [0.016, 0.016, 0.016, 0.015, 0.016]\n",
      "F1-score train:     0.015, individual: [0.013, 0.015, 0.014, 0.017, 0.014]\n",
      "F1-score test:      0.016, individual: [0.016, 0.013, 0.019, 0.015, 0.015]\n",
      "Cost savings train: 0.01, individual: [0.008, 0.009, 0.01, 0.013, 0.009]\n",
      "Cost savings test:  0.01, individual: [0.011, 0.008, 0.016, 0.007, 0.008]\n",
      "--------------------\n",
      "Logistic Regression\n",
      "Positives train     0.0, individual: [0.0, 0.0, 0.0, 0.0, 0.0]\n",
      "Positives test:     0.0, individual: [0.0, 0.0, 0.0, 0.0, 0.0]\n",
      "F1-score train:     0.0, individual: [0.0, 0.0, 0.0, 0.0, 0.0]\n",
      "F1-score test:      0.0, individual: [0.0, 0.0, 0.0, 0.0, 0.0]\n",
      "Cost savings train: 0.0, individual: [-0.0, -0.0, -0.0, -0.0, -0.0]\n",
      "Cost savings test:  0.0, individual: [-0.0, -0.0, -0.0, -0.0, 0.0]\n",
      "--------------------\n",
      "ANN\n",
      "Positives train     0.0, individual: [0.0, 0.0, 0.0, 0.0, 0.0]\n",
      "Positives test:     0.0, individual: [0.0, 0.0, 0.0, 0.0, 0.0]\n",
      "F1-score train:     0.0, individual: [0.0, 0.0, 0.0, 0.0, 0.0]\n",
      "F1-score test:      0.0, individual: [0.0, 0.0, 0.0, 0.0, 0.0]\n",
      "Cost savings train: 0.0, individual: [-0.0, -0.0, -0.0, 0.0, 0.0]\n",
      "Cost savings test:  0.0, individual: [0.0, 0.0, -0.0, 0.0, 0.0]\n",
      "--------------------\n",
      "ANN Cost Sensitive\n",
      "Positives train     0.54, individual: [0.553, 0.545, 0.555, 0.497, 0.549]\n",
      "Positives test:     0.54, individual: [0.551, 0.545, 0.554, 0.498, 0.551]\n",
      "F1-score train:     0.044, individual: [0.044, 0.044, 0.044, 0.046, 0.044]\n",
      "F1-score test:      0.044, individual: [0.043, 0.045, 0.043, 0.047, 0.043]\n",
      "Cost savings train: 0.809, individual: [0.81, 0.809, 0.809, 0.808, 0.809]\n",
      "Cost savings test:  0.809, individual: [0.803, 0.81, 0.809, 0.812, 0.809]\n",
      "--------------------\n",
      "Logistic Regression (min costs)\n",
      "Positives train     0.525, individual: [0.525, 0.524, 0.527, 0.524, 0.526]\n",
      "Positives test:     0.525, individual: [0.523, 0.524, 0.526, 0.525, 0.528]\n",
      "F1-score train:     0.045, individual: [0.045, 0.045, 0.045, 0.045, 0.045]\n",
      "F1-score test:      0.045, individual: [0.044, 0.045, 0.044, 0.046, 0.044]\n",
      "Cost savings train: 0.809, individual: [0.81, 0.809, 0.809, 0.809, 0.809]\n",
      "Cost savings test:  0.81, individual: [0.805, 0.81, 0.811, 0.812, 0.81]\n",
      "--------------------\n",
      "ANN (min costs)\n",
      "Positives train     0.511, individual: [0.502, 0.466, 0.55, 0.543, 0.494]\n",
      "Positives test:     0.51, individual: [0.499, 0.465, 0.549, 0.544, 0.495]\n",
      "F1-score train:     0.045, individual: [0.046, 0.047, 0.044, 0.044, 0.046]\n",
      "F1-score test:      0.045, individual: [0.045, 0.047, 0.043, 0.045, 0.045]\n",
      "Cost savings train: 0.808, individual: [0.809, 0.807, 0.808, 0.809, 0.809]\n",
      "Cost savings test:  0.807, individual: [0.805, 0.801, 0.81, 0.812, 0.809]\n"
     ]
    }
   ],
   "source": [
    "# Evaluate results #\n",
    "eval_results.evaluate('Random', y_train_l, y_test_l, y_pred_train_rand, y_pred_test_rand,\n",
    "                      cost_mat_train_l, cost_mat_test_l)\n",
    "eval_results.evaluate('Logistic Regression', y_train_l, y_test_l, y_pred_train_lr, \n",
    "                      y_pred_test_lr, cost_mat_train_l, cost_mat_test_l)\n",
    "eval_results.evaluate('ANN', y_train_l, y_test_l, y_pred_train_ann, y_pred_test_ann,\n",
    "                      cost_mat_train_l, cost_mat_test_l)\n",
    "eval_results.evaluate('ANN Cost Sensitive', y_train_l, y_test_l, y_pred_train_ann_cs, \n",
    "                      y_pred_test_ann_cs, cost_mat_train_l, cost_mat_test_l)\n",
    "eval_results.evaluate('Logistic Regression (min costs)', y_train_l, y_test_l, \n",
    "                      y_pred_train_lr_mc, y_pred_test_lr_mc, cost_mat_train_l, \n",
    "                      cost_mat_test_l)\n",
    "eval_results.evaluate('ANN (min costs)', y_train_l, y_test_l, y_pred_train_ann_mc,\n",
    "                      y_pred_test_ann_mc, cost_mat_train_l, cost_mat_test_l)\n"
   ]
  },
  {
   "cell_type": "code",
   "execution_count": 30,
   "metadata": {},
   "outputs": [],
   "source": [
    "y = target\n",
    "n_splits = 5\n",
    "kf = KFold(n_splits=n_splits, random_state=123, shuffle=True)\n",
    "kf.get_n_splits(y)\n",
    "train_index_l, test_index_l = [], []\n",
    "y_train_l, y_test_l = [], []\n",
    "for train_index, test_index in kf.split(y):\n",
    "    train_index_l.append(train_index)\n",
    "    test_index_l.append(test_index)\n",
    "    y_train_l.append(y.iloc[train_index])\n",
    "    y_test_l.append(y.iloc[test_index])"
   ]
  },
  {
   "cell_type": "code",
   "execution_count": 31,
   "metadata": {},
   "outputs": [],
   "source": [
    "def stack_y_probas(y_proba):\n",
    "    y_proba = np.hstack((y_proba, 1 - y_proba))\n",
    "    return np.array([y_proba[:int(y_proba.shape[0]/2)], y_proba[int(y_proba.shape[0]/2):]]).T\n",
    "\n",
    "def create_roc_auc(y_true, y_pred):\n",
    "    # Compute ROC curve and ROC area for each class\n",
    "    fpr, tpr, roc_auc = dict(), dict(), dict()\n",
    "    for i in range(2):\n",
    "        fpr[i], tpr[i], _ = roc_curve(y_true[:, i], y_pred[:, i])\n",
    "        roc_auc[i] = auc(fpr[i], tpr[i])\n",
    "    # Compute micro-average ROC curve and ROC area\n",
    "    fpr[\"micro\"], tpr[\"micro\"], _ = roc_curve(y_true.ravel(), y_pred.ravel())\n",
    "    roc_auc[\"micro\"] = auc(fpr[\"micro\"], tpr[\"micro\"])\n",
    "    return fpr, tpr, roc_auc\n",
    "\n",
    "# Create mean roc_auc for list of CV results:\n",
    "def create_mean_roc_auc(y_true_l, y_pred_l):\n",
    "    fpr_l, tpr_l, roc_auc_l, tprs_l = [], [], [], []\n",
    "    mean_fpr = np.linspace(0, 1, 100)\n",
    "    for y_true, y_pred in zip(y_true_l, y_pred_l):\n",
    "        fpr, tpr, roc_auc = create_roc_auc(y_true, y_pred)\n",
    "        tprs_l.append(interp(mean_fpr, fpr[1], tpr[1]))\n",
    "        tprs_l[-1][0] = 0.0\n",
    "        roc_auc_l.append(roc_auc)\n",
    "    mean_tpr = np.mean(tprs_l, axis=0)\n",
    "    mean_tpr[-1] = 1.0\n",
    "    mean_auc = auc(mean_fpr, mean_tpr)\n",
    "    return mean_fpr, mean_tpr, mean_auc"
   ]
  },
  {
   "cell_type": "code",
   "execution_count": 32,
   "metadata": {},
   "outputs": [],
   "source": [
    "# transform data to right format\n",
    "y_test_2D = []\n",
    "for y_test in y_test_l:\n",
    "    y_test = LabelBinarizer().fit_transform(y_test)\n",
    "    y_test = np.hstack((y_test, 1 - y_test))\n",
    "    y_test_2D.append(y_test)\n",
    "y_pred_test_lr_probas_2D, y_pred_test_ann_probas_2D, y_pred_test_ann_cs_probas_2D = [], [], []\n",
    "for i in range(n_splits):\n",
    "    y_pred_test_lr_probas_2D.append(stack_y_probas(y_pred_test_lr_probas[i]))\n",
    "    y_pred_test_ann_probas_2D.append(stack_y_probas(y_pred_test_ann_probas[i]))\n",
    "    y_pred_test_ann_cs_probas_2D.append(stack_y_probas(y_pred_test_ann_cs_probas[i].reshape(-1)))\n",
    "\n",
    "# calculate mean curves:\n",
    "mean_fpr_lr, mean_tpr_lr, mean_auc_lr = create_mean_roc_auc(y_test_2D, y_pred_test_lr_probas_2D)\n",
    "mean_fpr_ann, mean_tpr_ann, mean_auc_ann = create_mean_roc_auc(y_test_2D, y_pred_test_ann_probas_2D)\n",
    "mean_fpr_ann_cs, mean_tpr_ann_cs, mean_auc_ann_cs = \\\n",
    "    create_mean_roc_auc(y_test_2D, y_pred_test_ann_cs_probas_2D)"
   ]
  },
  {
   "cell_type": "code",
   "execution_count": 34,
   "metadata": {},
   "outputs": [],
   "source": [
    "f1_lr, cs_lr = eval_results.scores_and_costs(y_test_l, y_pred_test_lr, cost_mat_test_l)\n",
    "f1_ann, cs_ann = eval_results.scores_and_costs(y_test_l, y_pred_test_ann, cost_mat_test_l)\n",
    "f1_ann_cs, cs_ann_cs = eval_results.scores_and_costs(y_test_l, y_pred_test_ann_cs, cost_mat_test_l)\n",
    "f1_lr_mc, cs_lr_mc = eval_results.scores_and_costs(y_test_l, y_pred_test_lr_mc, cost_mat_test_l)\n",
    "f1_ann_mc, cs_ann_mc = eval_results.scores_and_costs(y_test_l, y_pred_test_ann_mc, cost_mat_test_l)\n",
    "df_results = pd.DataFrame(np.array([[np.mean(cs_lr), np.mean(f1_lr)], [np.mean(cs_ann), np.mean(f1_ann)], \\\n",
    "                      [np.mean(cs_ann_cs), np.mean(f1_ann_cs)], [np.mean(cs_lr_mc), np.mean(f1_lr_mc)], \\\n",
    "                      [np.mean(cs_ann_mc), np.mean(f1_ann_mc)]]))"
   ]
  },
  {
   "cell_type": "code",
   "execution_count": 35,
   "metadata": {},
   "outputs": [
    {
     "data": {
      "image/png": "[encoded data removed]",
      "text/plain": [
       "<Figure size 720x576 with 1 Axes>"
      ]
     },
     "metadata": {
      "needs_background": "light"
     },
     "output_type": "display_data"
    }
   ],
   "source": [
    "# All results: cost savings and F1-score\n",
    "df_results.index = ['LR - Regular','ANN - Regular','ANN - Cost Sensitive', \\\n",
    "                    'LR - Cost classification','ANN - Cost classification']\n",
    "df_results.columns = ['Cost Savings', 'F1 Score']\n",
    "\n",
    "fig, ax = plt.subplots()\n",
    "plt.rcParams.update({'figure.figsize': [8, 5], 'font.size': 22})\n",
    "plt.rcParams.update({'font.size': 20, 'figure.figsize': [10,8]})\n",
    "ax = df_results[::-1].plot.barh(ax=ax, color=['blue', 'gray'], width=0.7)\n",
    "ax.legend(bbox_to_anchor=(1, 0.75))\n",
    "ax.set_xlabel('F1 score / Cost Savings')\n",
    "plt.show()"
   ]
  },
  {
   "cell_type": "code",
   "execution_count": 36,
   "metadata": {},
   "outputs": [
    {
     "data": {
      "image/png": "[encoded data removed]",
      "text/plain": [
       "<Figure size 720x576 with 1 Axes>"
      ]
     },
     "metadata": {
      "needs_background": "light"
     },
     "output_type": "display_data"
    },
    {
     "data": {
      "image/png": "[encoded data removed]",
      "text/plain": [
       "<Figure size 576x216 with 1 Axes>"
      ]
     },
     "metadata": {
      "needs_background": "light"
     },
     "output_type": "display_data"
    }
   ],
   "source": [
    "# LR regular + ANN regular + ANN cost sensitive + LR cost classification + ANN cost classification\n",
    "fontsize = 18\n",
    "df_5_f1 = df_results.iloc[:, 1]\n",
    "fig, ax = plt.subplots()\n",
    "plt.rcParams.update({'font.size': fontsize, 'figure.figsize': [8, 3]})\n",
    "ax.barh(['ANN - Cost classification', 'LR - Cost classification', 'ANN - Cost-sensitive',\\\n",
    "         'ANN - Regular', 'Logistic Regression - Regular'], df_5_f1[::-1], \\\n",
    "        color=['blue', 'cornflowerblue', 'silver', 'silver', 'silver'], alpha=0.8)\n",
    "ax.set_xlim([0, 1])\n",
    "ax.set_xlabel('F1 Score')\n",
    "labels = list(df_5_f1[:].apply(lambda x: np.round(x, 2)))[::-1]\n",
    "rects = ax.patches\n",
    "for rect, label in zip(rects, labels):\n",
    "    x_value = rect.get_width()\n",
    "    y_value = rect.get_y() + rect.get_height() / 2\n",
    "    ax.text(x_value + 0.01, y_value - 0.2, label, color='black', fontsize=fontsize, style='italic', weight='bold')#,\n",
    "plt.setp(ax.get_xticklabels(), visible=False)\n",
    "ax.tick_params(top=False, bottom=False, right=False, axis='both', which='both', length=0)\n",
    "plt.box(False)\n",
    "plt.show()\n",
    "\n",
    "df_5_cs = df_results.iloc[:, 0]\n",
    "fig, ax = plt.subplots()\n",
    "ax.barh(['ANN - Cost classification', 'LR - Cost classification', 'ANN - Cost-sensitive', \\\n",
    "         'ANN - Regular', 'Logistic Regression - Regular'], df_5_cs[::-1], \\\n",
    "        color=['green', 'tomato', 'silver', 'silver', 'silver'], alpha=0.8)\n",
    "ax.set_xlim([0, 1])\n",
    "ax.set_xlabel('Cost savings')\n",
    "labels = list(df_5_cs[:].apply(lambda x: np.round(x, 2)))[::-1]\n",
    "rects = ax.patches\n",
    "for rect, label in zip(rects, labels):\n",
    "    x_value = rect.get_width()\n",
    "    y_value = rect.get_y() + rect.get_height() / 2\n",
    "    ax.text(x_value + 0.01, y_value - 0.2, label, color='black', fontsize=fontsize, style='italic', weight='bold')#,\n",
    "plt.setp(ax.get_xticklabels(), visible=False)\n",
    "ax.tick_params(top=False, bottom=False, right=False, axis='both', which='both', length=0)\n",
    "plt.box(False)\n",
    "plt.show()"
   ]
  }
 ],
 "metadata": {
  "kernelspec": {
   "display_name": "Python 3",
   "language": "python",
   "name": "python3"
  },
  "language_info": {
   "codemirror_mode": {
    "name": "ipython",
    "version": 3
   },
   "file_extension": ".py",
   "mimetype": "text/x-python",
   "name": "python",
   "nbconvert_exporter": "python",
   "pygments_lexer": "ipython3",
   "version": "3.8.0"
  }
 },
 "nbformat": 4,
 "nbformat_minor": 4
}
